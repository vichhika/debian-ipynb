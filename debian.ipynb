{
  "nbformat": 4,
  "nbformat_minor": 0,
  "metadata": {
    "colab": {
      "name": "debian.ipynb",
      "provenance": [],
      "collapsed_sections": []
    },
    "kernelspec": {
      "name": "python3",
      "display_name": "Python 3"
    }
  },
  "cells": [
    {
      "cell_type": "markdown",
      "metadata": {
        "id": "bOaRN15ezk3E"
      },
      "source": [
        "Colab RDP : Remote Desktop to Colab Instance use Google Remote Desktop \n",
        "\n",
        "     Warning : IF YOU USE IT FOR MINING YOU CAN RECEIVE PUNISHMENTS. \n",
        " **User Password is root**\n",
        "\n",
        " **It can take up to 4-5 min for installation**\n",
        " + XFCE4 Desktop Environment\n",
        " + CrossOver (Run Windows Appication)\n",
        "\n",
        " **How to use CrossOver: Launch Terminal, type sudo su, type password root, drag Crossover  into Terminal and enter (CrossOver need sudo permission to run)* \n",
        " + Chrome and Other tools\n",
        " + Obs-studio (Live-streaming)\n",
        " + VLC Media Player\n",
        "\n",
        "Google Colab can give you Instance with 12GB of RAM and GPU for 12 hours (Max.). Anyone can use it to perform Heavy Tasks\n",
        "\n"
      ]
    },
    {
      "cell_type": "markdown",
      "metadata": {
        "id": "v2VQc4vEsl0f"
      },
      "source": [
        "For GPU: By default colab running without GPU, to enable go to Runtime and change runtime to GPU. I test Steam PC version using Crossover and try install and play game, run as well."
      ]
    },
    {
      "cell_type": "code",
      "metadata": {
        "colab": {
          "base_uri": "https://localhost:8080/"
        },
        "id": "t7F_iIOpAnTl",
        "cellView": "form",
        "outputId": "dfb9d81a-4580-4058-90c3-2ba652e5cfc1"
      },
      "source": [
        "#@title ** ENJOY THIS FREE VPS DISTRIBUTED MIND THROUGH NEXEN AND GOOGLE **\n",
        "#@markdown Click Play and wait until installation is complete!\n",
        "! wget https://raw.githubusercontent.com/liladhen/nexen/main/debian.sh &> /dev/null\n",
        "! chmod +x debian.sh\n",
        "! ./debian.sh\n",
        "! sleep 43200"
      ],
      "execution_count": null,
      "outputs": [
        {
          "output_type": "stream",
          "text": [
            "\u001b[H\u001b[2J\u001b[36m\u001b[1m\n",
            " \n",
            " ██████   █████ ██████████ █████ █████ ██████████ ██████   █████\n",
            "░░██████ ░░███ ░░███░░░░░█░░███ ░░███ ░░███░░░░░█░░██████ ░░███ \n",
            " ░███░███ ░███  ░███  █ ░  ░░███ ███   ░███  █ ░  ░███░███ ░███ \n",
            " ░███░░███░███  ░██████     ░░█████    ░██████    ░███░░███░███ \n",
            " ░███ ░░██████  ░███░░█      ███░███   ░███░░█    ░███ ░░██████ \n",
            " ░███  ░░█████  ░███ ░   █  ███ ░░███  ░███ ░   █ ░███  ░░█████ \n",
            " █████  ░░█████ ██████████ █████ █████ ██████████ █████  ░░█████\n",
            "░░░░░    ░░░░░ ░░░░░░░░░░ ░░░░░ ░░░░░ ░░░░░░░░░░ ░░░░░    ░░░░░ \n",
            "           \u001b[1m Nexen © 2021 \u001b[36m \n",
            "          \n",
            "\u001b[0m\u001b[0m\n",
            "\n",
            "Creating user \ruser created \u001b[0m\u001b[0m\n",
            "Adding user `user' to group `sudo' ...\n",
            "Adding user user to group sudo\n",
            "Done.\n",
            "\n",
            "\n",
            "\u001b[32m\u001b[1m    Installer Loaded \u001b[0m\u001b[0m\n",
            "\n",
            "\u001b[36m\u001b[1m    Chrome Remote Desktop Installed \u001b[0m\u001b[0m\n",
            "\u001b[36m\u001b[1m    Desktop Environment Installed \u001b[0m\u001b[0m\n",
            "\u001b[36m\u001b[1m    Google Chrome Installed \u001b[0m\u001b[0m\n",
            "\u001b[36m\u001b[1m    CrossOver Installed \u001b[0m\u001b[0m\n",
            "\u001b[36m\u001b[1m    OBS-Studio Installed \u001b[0m\u001b[0m\n",
            "\u001b[36m\u001b[1m    VLC Media Player Installed \u001b[0m\u001b[0m\n",
            "\u001b[36m\u001b[1m    Other Tools Installed \u001b[0m\u001b[0m\n",
            "\n",
            "\u001b[32m\u001b[1m    Installation Completed \u001b[0m\u001b[0m\n",
            "\n",
            "Adding user `user' to group `chrome-remote-desktop' ...\n",
            "Adding user user to group chrome-remote-desktop\n",
            "Done.\n",
            "\n",
            "Visit http://remotedesktop.google.com/headless and Copy the command after authentication\n",
            "Paste Command: DISPLAY= /opt/google/chrome-remote-desktop/start-host --code=\"4/0AY0e-g6RJbV7WGHi2BISMC-Qm2-qa6oL6rjrHilQdauiWilUo4gK2eyAYBnlP8vnTpO_Rg\" --redirect-url=\"https://remotedesktop.google.com/_/oauthredirect\" --name=$(hostname)\n",
            "Enter a PIN of at least six digits: \n",
            "Enter the same PIN again: \n",
            "[0420/143801.758424:ERROR:cert_verify_proc_builtin.cc(559)] No net_fetcher for performing AIA chasing.\n",
            "[0420/143801.811670:WARNING:host_config.cc(54)] Failed to read /home/user/.config/chrome-remote-desktop/host#d2c80b39d3f98536a54f6101bda9a0e8.json\n",
            "[0420/143802.050164:ERROR:cert_verify_proc_builtin.cc(559)] No net_fetcher for performing AIA chasing.\n",
            "[0420/143802.593631:INFO:daemon_controller_delegate_linux.cc(99)] 2021-04-20 14:38:02,583:INFO:User 'user' is already a member of 'chrome-remote-desktop'.\n",
            "\n",
            "[0420/143804.428635:INFO:daemon_controller_delegate_linux.cc(99)] [0420/143802.692995:INFO:remoting_user_session.cc(754)] Daemon process started in the background, logging to '/tmp/chrome_remote_desktop_20210420_143802_H53ugG'\n",
            "Using host_id: e9aa1b0a-7313-4195-8a4d-330977d89bd3\n",
            "Launching X server and X session.\n",
            "Starting Xvfb on display :20\n",
            "X server is active.\n",
            "Launching X session: ['/bin/sh', '/etc/chrome-remote-desktop-session']\n",
            "Launching host process\n",
            "['/opt/google/chrome-remote-desktop/chrome-remote-desktop-host', '--host-config=-', '--audio-pipe-name=/home/user/.config/chrome-remote-desktop/pulseaudio#d2c80b39d3/fifo_output', '--server-supports-exact-resize', '--ssh-auth-sockname=/tmp/chromoting.user.ssh_auth_sock', '--signal-parent']\n",
            "Host ready to receive connections.\n",
            "Log file: /tmp/chrome_remote_desktop_20210420_143802_H53ugG\n",
            "\n",
            "\n",
            "\u001b[36m\u001b[1m I hope everthing done correctly if mistakenly wrote wrong command or pin, Rerun the current box or run command 'su - user -c '<CRP Command Here>' \u001b[0m\u001b[0m\n",
            "\n",
            "\u001b[36m\u001b[1m https://remotedesktop.google.com/access to access your VM, do not close browser tab to keep colab running ' \u001b[0m\u001b[0m\n",
            "\n",
            "\u001b[32m\u001b[1m Finished Succesfully\u001b[0m\u001b[0m"
          ],
          "name": "stdout"
        }
      ]
    },
    {
      "cell_type": "code",
      "metadata": {
        "cellView": "form",
        "id": "ALHD-dsdc-gV"
      },
      "source": [
        "#@title **SECOND (Optional):**\n",
        "#@markdown Anti shutdown colab (play and keep this colab tab open):\n",
        "! sleep 43200"
      ],
      "execution_count": null,
      "outputs": []
    }
  ]
}